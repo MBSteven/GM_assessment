{
 "cells": [
  {
   "cell_type": "code",
   "execution_count": 1,
   "metadata": {},
   "outputs": [],
   "source": [
    "import pandas as pd\n",
    "from scipy import stats"
   ]
  },
  {
   "cell_type": "code",
   "execution_count": 2,
   "metadata": {},
   "outputs": [],
   "source": [
    "# Import data and process data format \n",
    "df = pd.read_csv('Sample Data For Analysis.csv')\n",
    "df['EVENT_DATE'] = pd.to_datetime(df['EVENT_DATE'])\n",
    "df['CTR'] = df['CLICKS']/df['IMPRESSIONS']\n",
    "df_a = df[df['TEST_GROUP']=='Group A'].fillna(0)\n",
    "df_b = df[df['TEST_GROUP']=='Group B'].fillna(0)"
   ]
  },
  {
   "cell_type": "code",
   "execution_count": 3,
   "metadata": {},
   "outputs": [
    {
     "name": "stdout",
     "output_type": "stream",
     "text": [
      "CTR for group A is 0.83%, and CTR for group B is 0.92%\n"
     ]
    }
   ],
   "source": [
    "# Question 1\n",
    "CTR_a = sum(df_a['CLICKS'])/sum(df_a['IMPRESSIONS'])\n",
    "CTR_b = sum(df_b['CLICKS'])/sum(df_b['IMPRESSIONS'])\n",
    "print('CTR for group A is %s, and CTR for group B is %s'%(\"{:.2%}\".format(CTR_a),\"{:.2%}\".format(CTR_b)))"
   ]
  },
  {
   "cell_type": "code",
   "execution_count": 4,
   "metadata": {},
   "outputs": [],
   "source": [
    "# Merge table for group A and group B to calculate the CRT lift between groups\n",
    "df_a_b = df_a.merge(df_b,left_on=['SECTION', 'EVENT_DATE', 'CONTENT_FRESHNESS'],right_on=['SECTION', 'EVENT_DATE', 'CONTENT_FRESHNESS'])\n",
    "df_a_b['CTR_lift'] = df_a_b['CTR_y']-df_a_b['CTR_x']"
   ]
  },
  {
   "cell_type": "code",
   "execution_count": 5,
   "metadata": {},
   "outputs": [
    {
     "name": "stdout",
     "output_type": "stream",
     "text": [
      "The average CTR lift comparing Group B to Group a is -0.51%\n"
     ]
    }
   ],
   "source": [
    "# Question 2\n",
    "# CTR Lift comparing Group B to Group A\n",
    "a = df_a_b['CTR_lift']\n",
    "print('The average CTR lift comparing Group B to Group a is %s'%\"{:.2%}\".format(a.mean()))"
   ]
  },
  {
   "cell_type": "code",
   "execution_count": 6,
   "metadata": {},
   "outputs": [
    {
     "data": {
      "text/plain": [
       "Ttest_relResult(statistic=2.7643709982284905, pvalue=0.006109791558780056)"
      ]
     },
     "execution_count": 6,
     "metadata": {},
     "output_type": "execute_result"
    }
   ],
   "source": [
    "# Question 3\n",
    "# Paired T-test \n",
    "stats.ttest_rel(df_a_b['CTR_x'], df_a_b['CTR_y'])"
   ]
  },
  {
   "cell_type": "code",
   "execution_count": 7,
   "metadata": {},
   "outputs": [],
   "source": [
    "# The p-value is less than critical value 0.05. Therefore, the null hypothesis is rejected. The CTR for group B\n",
    "# is statistically significant higher than Group A."
   ]
  },
  {
   "cell_type": "code",
   "execution_count": 8,
   "metadata": {},
   "outputs": [
    {
     "name": "stdout",
     "output_type": "stream",
     "text": [
      "The 95% confidence intervals is between -0.866% and -0.145%.\n"
     ]
    }
   ],
   "source": [
    "# Question 4\n",
    "# CTR lift 95% CI\n",
    "inverval = stats.t.interval(0.95, len(a)-1, loc=np.mean(a), scale=stats.sem(a))\n",
    "print('The 95%% confidence intervals is between %s and %s.'%(\"{:.3%}\".format(inverval[0]),\"{:.3%}\".format(inverval[1])))"
   ]
  }
 ],
 "metadata": {
  "kernelspec": {
   "display_name": "Python 3",
   "language": "python",
   "name": "python3"
  },
  "language_info": {
   "codemirror_mode": {
    "name": "ipython",
    "version": 3
   },
   "file_extension": ".py",
   "mimetype": "text/x-python",
   "name": "python",
   "nbconvert_exporter": "python",
   "pygments_lexer": "ipython3",
   "version": "3.7.3"
  }
 },
 "nbformat": 4,
 "nbformat_minor": 4
}
